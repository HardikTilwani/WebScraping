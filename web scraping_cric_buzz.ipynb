{
 "cells": [
  {
   "cell_type": "code",
   "execution_count": 1,
   "metadata": {},
   "outputs": [
    {
     "name": "stdout",
     "output_type": "stream",
     "text": [
      "Requirement already satisfied: beautifulsoup4 in c:\\users\\hp\\anaconda3\\lib\\site-packages (4.8.2)\n",
      "Requirement already satisfied: soupsieve>=1.2 in c:\\users\\hp\\anaconda3\\lib\\site-packages (from beautifulsoup4) (1.9.5)\n"
     ]
    }
   ],
   "source": [
    "! pip install beautifulsoup4"
   ]
  },
  {
   "cell_type": "code",
   "execution_count": 2,
   "metadata": {},
   "outputs": [
    {
     "name": "stdout",
     "output_type": "stream",
     "text": [
      "Requirement already satisfied: requests in c:\\users\\hp\\anaconda3\\lib\\site-packages (2.22.0)\n",
      "Requirement already satisfied: certifi>=2017.4.17 in c:\\users\\hp\\anaconda3\\lib\\site-packages (from requests) (2019.11.28)\n",
      "Requirement already satisfied: idna<2.9,>=2.5 in c:\\users\\hp\\anaconda3\\lib\\site-packages (from requests) (2.8)\n",
      "Requirement already satisfied: chardet<3.1.0,>=3.0.2 in c:\\users\\hp\\anaconda3\\lib\\site-packages (from requests) (3.0.4)\n",
      "Requirement already satisfied: urllib3!=1.25.0,!=1.25.1,<1.26,>=1.21.1 in c:\\users\\hp\\anaconda3\\lib\\site-packages (from requests) (1.25.8)\n"
     ]
    }
   ],
   "source": [
    "! pip install requests"
   ]
  },
  {
   "cell_type": "code",
   "execution_count": 3,
   "metadata": {},
   "outputs": [],
   "source": [
    "import sys\n",
    "import time\n",
    "from bs4 import BeautifulSoup\n",
    "import requests\n",
    "import pandas as pd"
   ]
  },
  {
   "cell_type": "code",
   "execution_count": 4,
   "metadata": {},
   "outputs": [],
   "source": [
    "try:\n",
    "        #use the browser to get the url. This is suspicious command that might blow up.\n",
    "    page=requests.get('https://www.cricbuzz.com')                             # this might throw an exception if something goes wrong.\n",
    "    \n",
    "except Exception as e:                                   # this describes what to do if an exception is thrown\n",
    "    error_type, error_obj, error_info = sys.exc_info()      # get the exception information\n",
    "    print ('ERROR FOR LINK:',url)                          #print the link that cause the problem\n",
    "    print (error_type, 'Line:', error_info.tb_lineno)     #print error info and line that threw the exception\n",
    "                                                 #ignore this page. Abandon this and go back.\n",
    "time.sleep(2)   \n",
    "soup=BeautifulSoup(page.text,'html.parser')\n",
    "links=soup.find_all('div',attrs={'class':'cb-nws-intr'})   "
   ]
  },
  {
   "cell_type": "code",
   "execution_count": 5,
   "metadata": {},
   "outputs": [
    {
     "data": {
      "text/plain": [
       "[<div class=\"cb-nws-intr\">Chris Jordan, England's death bowling mainstay, brought his credentials to the fore in the 19th over his team's narrow two-run win in the first T20I</div>,\n",
       " <div class=\"cb-nws-intr\">While admitting that playing the IPL during the COVID-19 pandemic could pose its set of challenges, Katich said that it is important to prepare players to not panic when plans change</div>,\n",
       " <div class=\"cb-nws-intr\">In an exclusive chat with Cricbuzz, Essex fast-bowler Jamie Porter says he's unclear about why exactly he has fallen out of favour with the selectors</div>,\n",
       " <div class=\"cb-nws-intr\">The Warwickshire batsman was part of five Ashes-winning sides with England during his career</div>,\n",
       " <div class=\"cb-nws-intr\">The 33-year-old isn't a part of Australia's extended white-ball squad in England and last represented his country over 12 months ago</div>,\n",
       " <div class=\"cb-nws-intr\">At the very origin of the cricket field, lies the most overlooked and underrated position in the sport</div>,\n",
       " <div class=\"cb-nws-intr\">The defending T20 Blast champions are winless after five rounds</div>,\n",
       " <div class=\"cb-nws-intr\">The Bangladesh coach also stressed on the importance of picking a large squad for the series</div>,\n",
       " <div class=\"cb-nws-intr\">The left-arm pacer was approached by Mumbai Indians and Kolkata Knight Riders, but BCB want him available on national duty</div>,\n",
       " <div class=\"cb-nws-intr\">The 37-year-old, who suffered a back injury ahead of his team's Bob Willis Trophy game against Leicestershire, was advised to stop playing on medical grounds</div>,\n",
       " <div class=\"cb-nws-intr\">Border restrictions in Australia, amidst a second wave of COVID-19, have necessitated the move</div>,\n",
       " <div class=\"cb-nws-intr\">Table-toppers TKR extended their lead at the top despite the best efforts of Andre Fletcher</div>,\n",
       " <div class=\"cb-nws-intr\">AfriForum is considering possible legal action against CSA following the board's announcement that they would hire only black and brown consultants </div>,\n",
       " <div class=\"cb-nws-intr\">The South African is the highest run-getter for the side with 1,118 runs at an average of 25.40 and a strike rate of 108.43</div>,\n",
       " <div class=\"cb-nws-intr\">The County has launched a formal investigation into the racism allegations made by their player Azeem Rafiq</div>,\n",
       " <div class=\"cb-nws-intr\">In an exclusive interview, Suresh Raina opens up on leaving the CSK camp, N Srinivasan's comments, staying in the bio-bubble and the COVID-19 scare</div>,\n",
       " <div class=\"cb-nws-intr\">Recollections of people who saw him in different avatars at various stages of his career</div>,\n",
       " <div class=\"cb-nws-intr\">Living while black in South Africa remains an unfair burden from which cricketers are not exempted</div>,\n",
       " <div class=\"cb-nws-intr\">The Rockstar of Liberta - like he's known in his hometown - doesn't really care much for the cult figure status that has been assigned to him ever since he broke on to the scene last year</div>,\n",
       " <div class=\"cb-nws-intr\">How has Sourav Ganguly the BCCI President fared in his time at the helm?</div>]"
      ]
     },
     "execution_count": 5,
     "metadata": {},
     "output_type": "execute_result"
    }
   ],
   "source": [
    "links"
   ]
  },
  {
   "cell_type": "code",
   "execution_count": 6,
   "metadata": {},
   "outputs": [
    {
     "name": "stdout",
     "output_type": "stream",
     "text": [
      "Chris Jordan, England's death bowling mainstay, brought his credentials to the fore in the 19th over his team's narrow two-run win in the first T20I\n",
      "\n",
      "\n",
      "While admitting that playing the IPL during the COVID-19 pandemic could pose its set of challenges, Katich said that it is important to prepare players to not panic when plans change\n",
      "\n",
      "\n",
      "In an exclusive chat with Cricbuzz, Essex fast-bowler Jamie Porter says he's unclear about why exactly he has fallen out of favour with the selectors\n",
      "\n",
      "\n",
      "The Warwickshire batsman was part of five Ashes-winning sides with England during his career\n",
      "\n",
      "\n",
      "The 33-year-old isn't a part of Australia's extended white-ball squad in England and last represented his country over 12 months ago\n",
      "\n",
      "\n",
      "At the very origin of the cricket field, lies the most overlooked and underrated position in the sport\n",
      "\n",
      "\n",
      "The defending T20 Blast champions are winless after five rounds\n",
      "\n",
      "\n",
      "The Bangladesh coach also stressed on the importance of picking a large squad for the series\n",
      "\n",
      "\n",
      "The left-arm pacer was approached by Mumbai Indians and Kolkata Knight Riders, but BCB want him available on national duty\n",
      "\n",
      "\n",
      "The 37-year-old, who suffered a back injury ahead of his team's Bob Willis Trophy game against Leicestershire, was advised to stop playing on medical grounds\n",
      "\n",
      "\n",
      "Border restrictions in Australia, amidst a second wave of COVID-19, have necessitated the move\n",
      "\n",
      "\n",
      "Table-toppers TKR extended their lead at the top despite the best efforts of Andre Fletcher\n",
      "\n",
      "\n",
      "AfriForum is considering possible legal action against CSA following the board's announcement that they would hire only black and brown consultants \n",
      "\n",
      "\n",
      "The South African is the highest run-getter for the side with 1,118 runs at an average of 25.40 and a strike rate of 108.43\n",
      "\n",
      "\n",
      "The County has launched a formal investigation into the racism allegations made by their player Azeem Rafiq\n",
      "\n",
      "\n",
      "In an exclusive interview, Suresh Raina opens up on leaving the CSK camp, N Srinivasan's comments, staying in the bio-bubble and the COVID-19 scare\n",
      "\n",
      "\n",
      "Recollections of people who saw him in different avatars at various stages of his career\n",
      "\n",
      "\n",
      "Living while black in South Africa remains an unfair burden from which cricketers are not exempted\n",
      "\n",
      "\n",
      "The Rockstar of Liberta - like he's known in his hometown - doesn't really care much for the cult figure status that has been assigned to him ever since he broke on to the scene last year\n",
      "\n",
      "\n",
      "How has Sourav Ganguly the BCCI President fared in his time at the helm?\n",
      "\n",
      "\n"
     ]
    }
   ],
   "source": [
    "for i in links:\n",
    "    print(i.text)\n",
    "    print(\"\\n\")"
   ]
  },
  {
   "cell_type": "code",
   "execution_count": null,
   "metadata": {},
   "outputs": [],
   "source": []
  },
  {
   "cell_type": "code",
   "execution_count": null,
   "metadata": {},
   "outputs": [],
   "source": []
  },
  {
   "cell_type": "code",
   "execution_count": null,
   "metadata": {},
   "outputs": [],
   "source": []
  },
  {
   "cell_type": "code",
   "execution_count": null,
   "metadata": {},
   "outputs": [],
   "source": []
  }
 ],
 "metadata": {
  "kernelspec": {
   "display_name": "Python 3",
   "language": "python",
   "name": "python3"
  },
  "language_info": {
   "codemirror_mode": {
    "name": "ipython",
    "version": 3
   },
   "file_extension": ".py",
   "mimetype": "text/x-python",
   "name": "python",
   "nbconvert_exporter": "python",
   "pygments_lexer": "ipython3",
   "version": "3.7.6"
  }
 },
 "nbformat": 4,
 "nbformat_minor": 2
}
